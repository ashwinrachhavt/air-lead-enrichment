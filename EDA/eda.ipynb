{
 "cells": [
  {
   "cell_type": "code",
   "execution_count": 1,
   "id": "606a8ea9",
   "metadata": {},
   "outputs": [],
   "source": [
    "import pandas as pd"
   ]
  },
  {
   "cell_type": "code",
   "execution_count": 3,
   "id": "19b6e764",
   "metadata": {},
   "outputs": [],
   "source": [
    "df = pd.read_csv(\"/Users/ashwin/Applications/Master/air-lead-enrichment/data/messy_leads.csv\")"
   ]
  },
  {
   "cell_type": "code",
   "execution_count": 4,
   "id": "7ad76f81",
   "metadata": {},
   "outputs": [
    {
     "data": {
      "text/html": [
       "<div>\n",
       "<style scoped>\n",
       "    .dataframe tbody tr th:only-of-type {\n",
       "        vertical-align: middle;\n",
       "    }\n",
       "\n",
       "    .dataframe tbody tr th {\n",
       "        vertical-align: top;\n",
       "    }\n",
       "\n",
       "    .dataframe thead th {\n",
       "        text-align: right;\n",
       "    }\n",
       "</style>\n",
       "<table border=\"1\" class=\"dataframe\">\n",
       "  <thead>\n",
       "    <tr style=\"text-align: right;\">\n",
       "      <th></th>\n",
       "      <th>Name</th>\n",
       "      <th>Email</th>\n",
       "      <th>Title</th>\n",
       "      <th>Company</th>\n",
       "      <th>Phone</th>\n",
       "      <th>Source</th>\n",
       "      <th>Country</th>\n",
       "      <th>Created At</th>\n",
       "    </tr>\n",
       "  </thead>\n",
       "  <tbody>\n",
       "    <tr>\n",
       "      <th>0</th>\n",
       "      <td>Alice Anderson</td>\n",
       "      <td>alice.anderson@company.com</td>\n",
       "      <td>Product Lead</td>\n",
       "      <td>GlobalTech</td>\n",
       "      <td>(123) 456-7890</td>\n",
       "      <td>Referral</td>\n",
       "      <td>United States</td>\n",
       "      <td>19-Mar-2025</td>\n",
       "    </tr>\n",
       "    <tr>\n",
       "      <th>1</th>\n",
       "      <td>Alice Jones</td>\n",
       "      <td>alice.jones@business.co</td>\n",
       "      <td>CEO</td>\n",
       "      <td>Air Inc</td>\n",
       "      <td>+1 800 555 1212</td>\n",
       "      <td>Website Visitor</td>\n",
       "      <td>US</td>\n",
       "      <td>2025-04-01</td>\n",
       "    </tr>\n",
       "    <tr>\n",
       "      <th>2</th>\n",
       "      <td>carol</td>\n",
       "      <td>valid@example.com</td>\n",
       "      <td>VP Mktg</td>\n",
       "      <td>example corp</td>\n",
       "      <td>call me</td>\n",
       "      <td>LinkedIn</td>\n",
       "      <td>CA</td>\n",
       "      <td>NaN</td>\n",
       "    </tr>\n",
       "    <tr>\n",
       "      <th>3</th>\n",
       "      <td>Jack Brown</td>\n",
       "      <td>jack.brown@business.co</td>\n",
       "      <td>NaN</td>\n",
       "      <td>example corp</td>\n",
       "      <td>5551212</td>\n",
       "      <td>LinkedIn</td>\n",
       "      <td>US</td>\n",
       "      <td>2024-10-30</td>\n",
       "    </tr>\n",
       "    <tr>\n",
       "      <th>4</th>\n",
       "      <td>Carol Martinez</td>\n",
       "      <td>carol.martinez@business.co</td>\n",
       "      <td>Marketing Manager</td>\n",
       "      <td>COMPANY</td>\n",
       "      <td>123-456-7890</td>\n",
       "      <td>LinkedIn</td>\n",
       "      <td>CA</td>\n",
       "      <td>2025-01-11</td>\n",
       "    </tr>\n",
       "  </tbody>\n",
       "</table>\n",
       "</div>"
      ],
      "text/plain": [
       "             Name                       Email              Title  \\\n",
       "0  Alice Anderson  alice.anderson@company.com       Product Lead   \n",
       "1     Alice Jones     alice.jones@business.co                CEO   \n",
       "2           carol           valid@example.com            VP Mktg   \n",
       "3      Jack Brown      jack.brown@business.co                NaN   \n",
       "4  Carol Martinez  carol.martinez@business.co  Marketing Manager   \n",
       "\n",
       "        Company            Phone           Source        Country   Created At  \n",
       "0    GlobalTech   (123) 456-7890         Referral  United States  19-Mar-2025  \n",
       "1       Air Inc  +1 800 555 1212  Website Visitor             US   2025-04-01  \n",
       "2  example corp          call me         LinkedIn             CA          NaN  \n",
       "3  example corp          5551212         LinkedIn             US   2024-10-30  \n",
       "4       COMPANY     123-456-7890         LinkedIn             CA   2025-01-11  "
      ]
     },
     "execution_count": 4,
     "metadata": {},
     "output_type": "execute_result"
    }
   ],
   "source": [
    "df.head()"
   ]
  },
  {
   "cell_type": "code",
   "execution_count": 5,
   "id": "865fdb42",
   "metadata": {},
   "outputs": [
    {
     "data": {
      "text/plain": [
       "100"
      ]
     },
     "execution_count": 5,
     "metadata": {},
     "output_type": "execute_result"
    }
   ],
   "source": [
    "len(df)"
   ]
  },
  {
   "cell_type": "code",
   "execution_count": null,
   "id": "aad62dd4",
   "metadata": {},
   "outputs": [],
   "source": []
  }
 ],
 "metadata": {
  "kernelspec": {
   "display_name": "venv",
   "language": "python",
   "name": "python3"
  },
  "language_info": {
   "codemirror_mode": {
    "name": "ipython",
    "version": 3
   },
   "file_extension": ".py",
   "mimetype": "text/x-python",
   "name": "python",
   "nbconvert_exporter": "python",
   "pygments_lexer": "ipython3",
   "version": "3.11.7"
  }
 },
 "nbformat": 4,
 "nbformat_minor": 5
}
